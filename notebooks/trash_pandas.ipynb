{
 "cells": [
  {
   "cell_type": "code",
   "execution_count": 2,
   "id": "cc451a88-72d7-4b62-9095-393116755910",
   "metadata": {},
   "outputs": [],
   "source": [
    "import pandas as pd\n",
    "import geopandas as gpd\n",
    "import matplotlib.pyplot as plt\n",
    "import folium\n",
    "from folium.plugins import MarkerCluster\n",
    "from folium.plugins import FastMarkerCluster"
   ]
  },
  {
   "cell_type": "code",
   "execution_count": 3,
   "id": "ed53b8bd-c80c-4c34-a0bc-51749fe75e29",
   "metadata": {
    "scrolled": true
   },
   "outputs": [],
   "source": [
    "trash_report_df = pd.read_csv('../data/trash.csv')"
   ]
  },
  {
   "cell_type": "code",
   "execution_count": 4,
   "id": "c987004c-20f5-44f1-ad87-a02a6542e192",
   "metadata": {},
   "outputs": [
    {
     "name": "stdout",
     "output_type": "stream",
     "text": [
      "   Request Number Date Opened                               Request  \\\n",
      "0           25270   11/1/2017                      Trash - Backdoor   \n",
      "1           25274   11/1/2017  Trash - Curbside/Alley Missed Pickup   \n",
      "2           25276   11/1/2017  Trash - Curbside/Alley Missed Pickup   \n",
      "3           25307   11/1/2017  Trash - Curbside/Alley Missed Pickup   \n",
      "4           25312   11/1/2017  Trash - Curbside/Alley Missed Pickup   \n",
      "\n",
      "                                         Description       Incident Address  \\\n",
      "0  house with the wheel chair ramp, they share dr...         3817 Crouch Dr   \n",
      "1                           Curb/Trash miss Tuesday.  4028 Clarksville Pike   \n",
      "2                           Curb/trash miss Tuesday.    6528 Thunderbird Dr   \n",
      "3                                             missed   2603 old matthews rd   \n",
      "4                  Missed the even side of the road.          604 croley dr   \n",
      "\n",
      "   Zip Code Trash Hauler Trash Route  Council District  State Plan X  \\\n",
      "0   37207.0    RED RIVER        3205               2.0   1727970.412   \n",
      "1   37218.0    RED RIVER        4202               1.0   1721259.366   \n",
      "2   37209.0    RED RIVER        4205              20.0   1707026.753   \n",
      "3   37207.0    WASTE IND        2206               2.0   1735691.771   \n",
      "4   37209.0    RED RIVER        4203              20.0   1710185.772   \n",
      "\n",
      "   State Plan Y  LONGITUDE   LATITUDE  \n",
      "0   686779.4781 -86.815392  36.217292  \n",
      "1   685444.7996 -86.838103  36.213470  \n",
      "2   659887.4716 -86.885562  36.142923  \n",
      "3   685027.2459 -86.789170  36.212652  \n",
      "4   664205.1011 -86.874995  36.154861  \n"
     ]
    }
   ],
   "source": [
    "print(trash_report_df.head())"
   ]
  },
  {
   "cell_type": "code",
   "execution_count": 16,
   "id": "3331bb5b-6dac-4855-81cf-d037c40f86b4",
   "metadata": {},
   "outputs": [],
   "source": [
    "trash_report_df_drop = trash_report_df[['State Plan X','State Plan Y','Council District','Incident Address']]"
   ]
  },
  {
   "cell_type": "code",
   "execution_count": 17,
   "id": "7f076302-11b7-4239-8758-c9e631a41f19",
   "metadata": {},
   "outputs": [
    {
     "name": "stdout",
     "output_type": "stream",
     "text": [
      "   State Plan X  State Plan Y  Council District       Incident Address\n",
      "0   1727970.412   686779.4781               2.0         3817 Crouch Dr\n",
      "1   1721259.366   685444.7996               1.0  4028 Clarksville Pike\n",
      "2   1707026.753   659887.4716              20.0    6528 Thunderbird Dr\n",
      "3   1735691.771   685027.2459               2.0   2603 old matthews rd\n",
      "4   1710185.772   664205.1011              20.0          604 croley dr\n"
     ]
    }
   ],
   "source": [
    "print(trash_report_df_drop.head())"
   ]
  },
  {
   "cell_type": "code",
   "execution_count": 11,
   "id": "e7fe8eac-8727-41fb-a3fc-0f32f14f6fe0",
   "metadata": {},
   "outputs": [],
   "source": [
    "misses_per_address = trash_report_df_drop['Incident Address'].value_counts()"
   ]
  },
  {
   "cell_type": "code",
   "execution_count": 28,
   "id": "8825b773-4ff9-48bd-85d0-3c7bc7a649b9",
   "metadata": {},
   "outputs": [],
   "source": [
    "trash_report_df_cleaned = trash_report_df[['Date Opened','Request','Incident Address','Trash Route']]"
   ]
  },
  {
   "cell_type": "code",
   "execution_count": 34,
   "id": "82f811ab-a13c-4fc3-8649-3fc10dcaaed2",
   "metadata": {},
   "outputs": [
    {
     "name": "stdout",
     "output_type": "stream",
     "text": [
      "  Date Opened                               Request       Incident Address  \\\n",
      "0   11/1/2017                      TRASH - BACKDOOR         3817 Crouch Dr   \n",
      "1   11/1/2017  TRASH - CURBSIDE/ALLEY MISSED PICKUP  4028 Clarksville Pike   \n",
      "2   11/1/2017  TRASH - CURBSIDE/ALLEY MISSED PICKUP    6528 Thunderbird Dr   \n",
      "3   11/1/2017  TRASH - CURBSIDE/ALLEY MISSED PICKUP   2603 old matthews rd   \n",
      "4   11/1/2017  TRASH - CURBSIDE/ALLEY MISSED PICKUP          604 croley dr   \n",
      "\n",
      "  Trash Route  \n",
      "0        3205  \n",
      "1        4202  \n",
      "2        4205  \n",
      "3        2206  \n",
      "4        4203  \n"
     ]
    }
   ],
   "source": [
    "print(trash_report_df_cleaned.head())"
   ]
  },
  {
   "cell_type": "code",
   "execution_count": 37,
   "id": "f6cd19c4-41b8-4cb6-901f-9e6bb2761413",
   "metadata": {},
   "outputs": [],
   "source": [
    "trash_misses = trash_report_df_cleaned[trash_report_df_cleaned['Request'].str.contains('miss', case=False, na=False)]"
   ]
  },
  {
   "cell_type": "code",
   "execution_count": 38,
   "id": "1c3da1a2-9859-4642-8d5d-ba376700c580",
   "metadata": {},
   "outputs": [
    {
     "name": "stdout",
     "output_type": "stream",
     "text": [
      "      Date Opened                               Request  \\\n",
      "1       11/1/2017  TRASH - CURBSIDE/ALLEY MISSED PICKUP   \n",
      "2       11/1/2017  TRASH - CURBSIDE/ALLEY MISSED PICKUP   \n",
      "3       11/1/2017  TRASH - CURBSIDE/ALLEY MISSED PICKUP   \n",
      "4       11/1/2017  TRASH - CURBSIDE/ALLEY MISSED PICKUP   \n",
      "8       11/1/2017  TRASH - CURBSIDE/ALLEY MISSED PICKUP   \n",
      "...           ...                                   ...   \n",
      "20221   11/1/2019  TRASH - CURBSIDE/ALLEY MISSED PICKUP   \n",
      "20222   11/1/2019  TRASH - CURBSIDE/ALLEY MISSED PICKUP   \n",
      "20223   11/1/2019  TRASH - CURBSIDE/ALLEY MISSED PICKUP   \n",
      "20224   11/1/2019  TRASH - CURBSIDE/ALLEY MISSED PICKUP   \n",
      "20225   11/1/2019  TRASH - CURBSIDE/ALLEY MISSED PICKUP   \n",
      "\n",
      "                                        Incident Address Trash Route  \n",
      "1                                  4028 Clarksville Pike        4202  \n",
      "2                                    6528 Thunderbird Dr        4205  \n",
      "3                                   2603 old matthews rd        2206  \n",
      "4                                          604 croley dr        4203  \n",
      "8                          4484 Lavergne Couchville Pike        4210  \n",
      "...                                                  ...         ...  \n",
      "20221                             2731 Murfreesboro Pike        4502  \n",
      "20222  1621 Long Ave, Nashville, TN 37206, United States        9508  \n",
      "20223  2943 Windemere Cir, Nashville, TN 37214, Unite...        1502  \n",
      "20224  3325 Murfreesboro Pike, Nashville, TN 37013, U...        4502  \n",
      "20225  604 Somerset Ct, Nashville, TN 37217, United S...        2505  \n",
      "\n",
      "[15028 rows x 4 columns]\n"
     ]
    }
   ],
   "source": [
    "print(trash_misses)"
   ]
  },
  {
   "cell_type": "code",
   "execution_count": 43,
   "id": "a8b4cfbd-e928-49d4-b5c6-3ecd98da3fee",
   "metadata": {},
   "outputs": [],
   "source": [
    "misses_by_address = trash_misses['Incident Address'].value_counts().reset_index()\n",
    "misses_by_address.columns = ['Incident Address', 'Miss Count']"
   ]
  },
  {
   "cell_type": "code",
   "execution_count": 44,
   "id": "40cfd3e4-dbac-40e4-8ca6-df92d6119c71",
   "metadata": {},
   "outputs": [
    {
     "name": "stdout",
     "output_type": "stream",
     "text": [
      "                                        Incident Address  Miss Count\n",
      "0      12546 Old Hickory Blvd, Nashville, TN 37013, U...          19\n",
      "1                               5135 Hickory Hollow Pkwy          17\n",
      "2      802 Crescent Rd, Nashville, TN 37205, United S...          17\n",
      "3      1816 Jo Johnston Ave, Nashville, TN 37203, Uni...          16\n",
      "4       607 Estes Rd, Nashville, TN 37215, United States          15\n",
      "...                                                  ...         ...\n",
      "11411  509 Rochelle Dr, Nashville, TN 37220, United S...           1\n",
      "11412  2229 Cabin Hill Rd, Nashville, TN 37214, Unite...           1\n",
      "11413  102 Graeme Dr, Nashville, TN 37214, United States           1\n",
      "11414  911 Petway Ave, Nashville, TN 37206, United St...           1\n",
      "11415  604 Somerset Ct, Nashville, TN 37217, United S...           1\n",
      "\n",
      "[11416 rows x 2 columns]\n"
     ]
    }
   ],
   "source": [
    "print(misses_by_address)"
   ]
  },
  {
   "cell_type": "code",
   "execution_count": 47,
   "id": "03810379-84f5-4695-9e3b-f4ae80e1da8b",
   "metadata": {},
   "outputs": [],
   "source": [
    "misses_by_address_two_or_more = misses_by_address[misses_by_address['Miss Count']>1]"
   ]
  },
  {
   "cell_type": "code",
   "execution_count": 48,
   "id": "389b5165-bc15-4ff2-bfb1-f7d2a6fd0567",
   "metadata": {},
   "outputs": [
    {
     "name": "stdout",
     "output_type": "stream",
     "text": [
      "                                       Incident Address  Miss Count\n",
      "0     12546 Old Hickory Blvd, Nashville, TN 37013, U...          19\n",
      "1                              5135 Hickory Hollow Pkwy          17\n",
      "2     802 Crescent Rd, Nashville, TN 37205, United S...          17\n",
      "3     1816 Jo Johnston Ave, Nashville, TN 37203, Uni...          16\n",
      "4      607 Estes Rd, Nashville, TN 37215, United States          15\n",
      "...                                                 ...         ...\n",
      "2221                                      3702 Hobbs Rd           2\n",
      "2222  1114 Saunders Ave, Madison, TN 37115, United S...           2\n",
      "2223                              1824 Shackleford Rd B           2\n",
      "2224  4014 Dorcas Dr, Nashville, TN 37215, United St...           2\n",
      "2225                               109 Jocelyn Hills Rd           2\n",
      "\n",
      "[2226 rows x 2 columns]\n"
     ]
    }
   ],
   "source": [
    "print(misses_by_address_two_or_more)"
   ]
  },
  {
   "cell_type": "code",
   "execution_count": 50,
   "id": "412e10a8-8529-45a4-8ef2-ec781f02a2ee",
   "metadata": {},
   "outputs": [
    {
     "data": {
      "text/plain": [
       "1166000"
      ]
     },
     "execution_count": 50,
     "metadata": {},
     "output_type": "execute_result"
    }
   ],
   "source": [
    "misses_by_address_two_or_more['Miss Count'].sum()*200"
   ]
  },
  {
   "cell_type": "code",
   "execution_count": null,
   "id": "1bc010b6-9987-49ec-88de-0d8b46f9f679",
   "metadata": {},
   "outputs": [],
   "source": []
  }
 ],
 "metadata": {
  "kernelspec": {
   "display_name": "Python 3 (ipykernel)",
   "language": "python",
   "name": "python3"
  },
  "language_info": {
   "codemirror_mode": {
    "name": "ipython",
    "version": 3
   },
   "file_extension": ".py",
   "mimetype": "text/x-python",
   "name": "python",
   "nbconvert_exporter": "python",
   "pygments_lexer": "ipython3",
   "version": "3.10.17"
  }
 },
 "nbformat": 4,
 "nbformat_minor": 5
}
